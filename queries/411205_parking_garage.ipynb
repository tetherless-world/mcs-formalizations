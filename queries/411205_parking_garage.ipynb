{
 "cells": [
  {
   "cell_type": "code",
   "execution_count": 75,
   "outputs": [],
   "source": [
    "from rdflib import Graph, URIRef\n",
    "from mcs_formalizations.namespace import bind_namespaces, MCS, RDF\n",
    "from mcs_formalizations.helpers import uri_base"
   ],
   "metadata": {
    "collapsed": false,
    "pycharm": {
     "name": "#%%\n"
    }
   }
  },
  {
   "cell_type": "markdown",
   "metadata": {},
   "source": [
    "### Question: True/False - A parking garage is larger than an automobile."
   ]
  },
  {
   "cell_type": "markdown",
   "metadata": {},
   "source": [
    "##### Prepare the Graph"
   ]
  },
  {
   "cell_type": "code",
   "execution_count": 76,
   "metadata": {},
   "outputs": [],
   "source": [
    "from mcs_formalizations.reasoners.sparql_reasoner import SparqlReasoner\n",
    "parking_garage = uri_base(\"parking_garage\")\n",
    "automobile = uri_base(\"automobile\")\n",
    "vehicle = uri_base(\"vehicle\")"
   ]
  },
  {
   "cell_type": "markdown",
   "metadata": {},
   "source": [
    "##### Minimum Knowledge Assumed:\n",
    "- a parking garage contains vehicles\n",
    "- an automobile is a type of vehicle"
   ]
  },
  {
   "cell_type": "code",
   "execution_count": 77,
   "metadata": {},
   "outputs": [
    {
     "ename": "TypeError",
     "evalue": "add_knowledge() takes 2 positional arguments but 3 were given",
     "output_type": "error",
     "traceback": [
      "\u001B[0;31m---------------------------------------------------------------------------\u001B[0m",
      "\u001B[0;31mTypeError\u001B[0m                                 Traceback (most recent call last)",
      "\u001B[0;32m<ipython-input-77-4917aa60357c>\u001B[0m in \u001B[0;36m<module>\u001B[0;34m\u001B[0m\n\u001B[1;32m      1\u001B[0m \u001B[0mreasoner\u001B[0m \u001B[0;34m=\u001B[0m \u001B[0mSparqlReasoner\u001B[0m\u001B[0;34m(\u001B[0m\u001B[0;34m)\u001B[0m\u001B[0;34m\u001B[0m\u001B[0;34m\u001B[0m\u001B[0m\n\u001B[1;32m      2\u001B[0m \u001B[0;34m\u001B[0m\u001B[0m\n\u001B[0;32m----> 3\u001B[0;31m reasoner.add_knowledge(\n\u001B[0m\u001B[1;32m      4\u001B[0m     \u001B[0;34m(\u001B[0m\u001B[0mparking_garage\u001B[0m\u001B[0;34m,\u001B[0m \u001B[0mMCS\u001B[0m\u001B[0;34m.\u001B[0m\u001B[0mcontains\u001B[0m\u001B[0;34m,\u001B[0m \u001B[0mvehicle\u001B[0m\u001B[0;34m)\u001B[0m\u001B[0;34m,\u001B[0m\u001B[0;34m\u001B[0m\u001B[0;34m\u001B[0m\u001B[0m\n\u001B[1;32m      5\u001B[0m     \u001B[0;34m(\u001B[0m\u001B[0mvehicle\u001B[0m\u001B[0;34m,\u001B[0m \u001B[0mRDF\u001B[0m\u001B[0;34m.\u001B[0m\u001B[0mtype\u001B[0m\u001B[0;34m,\u001B[0m \u001B[0mautomobile\u001B[0m\u001B[0;34m)\u001B[0m\u001B[0;34m,\u001B[0m\u001B[0;34m\u001B[0m\u001B[0;34m\u001B[0m\u001B[0m\n",
      "\u001B[0;31mTypeError\u001B[0m: add_knowledge() takes 2 positional arguments but 3 were given"
     ]
    }
   ],
   "source": [
    "reasoner = SparqlReasoner()\n",
    "\n",
    "reasoner.add_knowledge(\n",
    "    (parking_garage, MCS.contains, vehicle),\n",
    "    (vehicle, RDF.type, automobile),\n",
    ")"
   ]
  },
  {
   "cell_type": "markdown",
   "metadata": {
    "pycharm": {
     "name": "#%% md\n"
    }
   },
   "source": [
    "#### Minimum rules assumed:\n",
    "\n",
    "- a container is larger than the things it contains"
   ]
  },
  {
   "cell_type": "code",
   "execution_count": null,
   "outputs": [],
   "source": [
    "reasoner.apply_rules(\n",
    "    \"is_larger_than\",\n",
    ")"
   ],
   "metadata": {
    "collapsed": false,
    "pycharm": {
     "name": "#%%\n"
    }
   }
  },
  {
   "cell_type": "code",
   "execution_count": null,
   "outputs": [],
   "source": [
    "print(\"Is a parking garage larger than an automobile?\")\n",
    "print(reasoner.ask((parking_garage, uri_base(\"isLargerThan\"), automobile)))"
   ],
   "metadata": {
    "collapsed": false,
    "pycharm": {
     "name": "#%%\n"
    }
   }
  }
 ],
 "metadata": {
  "kernelspec": {
   "display_name": "Python 3",
   "language": "python",
   "name": "python3"
  },
  "language_info": {
   "codemirror_mode": {
    "name": "ipython",
    "version": 3
   },
   "file_extension": ".py",
   "mimetype": "text/x-python",
   "name": "python",
   "nbconvert_exporter": "python",
   "pygments_lexer": "ipython3",
   "version": "3.5.2"
  }
 },
 "nbformat": 4,
 "nbformat_minor": 4
}