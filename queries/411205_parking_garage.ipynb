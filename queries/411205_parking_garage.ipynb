{
 "cells": [
  {
   "cell_type": "code",
   "execution_count": 11,
   "metadata": {},
   "outputs": [
    {
     "name": "stdout",
     "output_type": "stream",
     "text": [
      "workbook_dir: /Users/minor/projects/mcs-formalizations/queries\n",
      "current working dir: /Users/minor/projects/mcs-formalizations\n"
     ]
    }
   ],
   "source": [
    "import os\n",
    "from pathlib import Path\n",
    "\n",
    "if not 'workbook_dir' in globals():\n",
    "    workbook_dir = os.getcwd()\n",
    "print('workbook_dir: ' + workbook_dir)\n",
    "os.chdir(Path(workbook_dir).parent.absolute())\n",
    "print(\"current working dir:\", os.getcwd())"
   ]
  },
  {
   "cell_type": "code",
   "execution_count": 12,
   "metadata": {},
   "outputs": [],
   "source": [
    "from rdflib import Graph, URIRef\n",
    "from mcs_formalizations.namespace import bind_namespaces, MCS, RDF\n",
    "from mcs_formalizations.helpers import uri_base"
   ]
  },
  {
   "cell_type": "markdown",
   "metadata": {},
   "source": [
    "### Question: True/False - A parking garage is larger than an automobile."
   ]
  },
  {
   "cell_type": "markdown",
   "metadata": {},
   "source": [
    "##### Prepare the Graph"
   ]
  },
  {
   "cell_type": "code",
   "execution_count": 13,
   "metadata": {},
   "outputs": [],
   "source": [
    "parking_garage = uri_base(\"parking_garage\")\n",
    "automobile = uri_base(\"automobile\")\n",
    "vehicle = uri_base(\"vehicle\")"
   ]
  },
  {
   "cell_type": "markdown",
   "metadata": {},
   "source": [
    "##### Minimum Knowledge Assumed:\n",
    "- a parking garage contains vehicles\n",
    "- an automobile is a type of vehicle\n",
    "- a container is larger than the things it contains"
   ]
  },
  {
   "cell_type": "code",
   "execution_count": 14,
   "metadata": {},
   "outputs": [],
   "source": [
    "g = Graph()\n",
    "bind_namespaces(g)\n",
    "\n",
    "g.add((parking_garage, MCS.contains, vehicle))\n",
    "g.add((vehicle, RDF.type, automobile))\n"
   ]
  },
  {
   "cell_type": "code",
   "execution_count": 15,
   "metadata": {},
   "outputs": [],
   "source": [
    "with open(\"constructs/is_larger_than.txt\", \"r\") as construct_file:\n",
    "    isLargerThan = construct_file.read()"
   ]
  },
  {
   "cell_type": "markdown",
   "metadata": {},
   "source": [
    "##### Execute the Construct"
   ]
  },
  {
   "cell_type": "code",
   "execution_count": 16,
   "metadata": {},
   "outputs": [
    {
     "name": "stdout",
     "output_type": "stream",
     "text": [
      "(rdflib.term.URIRef('mcs:object:parking_garage'), rdflib.term.URIRef('http://purl.org/twc/mcs/isLargerThan'), rdflib.term.URIRef('mcs:object:vehicle'))\n"
     ]
    }
   ],
   "source": [
    "qres_construct = g.query(isLargerThan)\n",
    "\n",
    "for row in qres_construct:\n",
    "    print(row)"
   ]
  },
  {
   "cell_type": "code",
   "execution_count": 17,
   "metadata": {},
   "outputs": [
    {
     "name": "stdout",
     "output_type": "stream",
     "text": [
      "False\n"
     ]
    }
   ],
   "source": [
    "qres_ask = g.query(\"ASK {mcs:object:parking_garage mcs:isLargerThan mcs:object:automobile}\")\n",
    "print(bool(qres_ask))"
   ]
  },
  {
   "cell_type": "code",
   "execution_count": 17,
   "metadata": {},
   "outputs": [],
   "source": []
  },
  {
   "cell_type": "code",
   "execution_count": 17,
   "metadata": {},
   "outputs": [],
   "source": []
  }
 ],
 "metadata": {
  "kernelspec": {
   "display_name": "Python 3",
   "language": "python",
   "name": "python3"
  },
  "language_info": {
   "codemirror_mode": {
    "name": "ipython",
    "version": 3
   },
   "file_extension": ".py",
   "mimetype": "text/x-python",
   "name": "python",
   "nbconvert_exporter": "python",
   "pygments_lexer": "ipython3",
   "version": "3.5.2"
  }
 },
 "nbformat": 4,
 "nbformat_minor": 4
}