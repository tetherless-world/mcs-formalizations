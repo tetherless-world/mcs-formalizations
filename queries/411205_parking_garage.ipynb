{
 "cells": [
  {
   "cell_type": "code",
   "execution_count": 60,
   "metadata": {},
   "outputs": [
    {
     "name": "stdout",
     "output_type": "stream",
     "text": [
      "workbook_dir: /Users/minor/projects/mcs-formalizations/queries\n",
      "current working dir: /Users/minor/projects/mcs-formalizations\n"
     ]
    }
   ],
   "source": [
    "import os\n",
    "from pathlib import Path\n",
    "\n",
    "if not 'workbook_dir' in globals():\n",
    "    workbook_dir = os.getcwd()\n",
    "print('workbook_dir: ' + workbook_dir)\n",
    "os.chdir(Path(workbook_dir).parent.absolute())\n",
    "print(\"current working dir:\", os.getcwd())"
   ]
  },
  {
   "cell_type": "code",
   "execution_count": 61,
   "metadata": {},
   "outputs": [],
   "source": [
    "from rdflib import Graph, URIRef\n",
    "from mcs_formalizations.namespace import bind_namespaces, MCS, RDF\n",
    "from mcs_formalizations.helpers import uri_base"
   ]
  },
  {
   "cell_type": "markdown",
   "metadata": {},
   "source": [
    "### Question: True/False - A parking garage is larger than an automobile."
   ]
  },
  {
   "cell_type": "markdown",
   "metadata": {},
   "source": [
    "##### Prepare the Graph"
   ]
  },
  {
   "cell_type": "code",
   "execution_count": 62,
   "metadata": {},
   "outputs": [],
   "source": [
    "parking_garage = uri_base(\"parking_garage\")\n",
    "automobile = uri_base(\"automobile\")\n",
    "vehicle = uri_base(\"vehicle\")"
   ]
  },
  {
   "cell_type": "markdown",
   "metadata": {},
   "source": [
    "##### Minimum Knowledge Assumed:\n",
    "- a parking garage contains vehicles\n",
    "- an automobile is a type of vehicle"
   ]
  },
  {
   "cell_type": "code",
   "execution_count": 63,
   "metadata": {},
   "outputs": [
    {
     "name": "stdout",
     "output_type": "stream",
     "text": [
      "Graph after adding minimum knowledge:\n",
      "@prefix mcs: <http://purl.org/twc/mcs/> .\n",
      "\n",
      "<mcs:object:parking_garage> mcs:contains <mcs:object:vehicle> .\n",
      "\n",
      "<mcs:object:vehicle> a <mcs:object:automobile> .\n",
      "\n",
      "\n"
     ]
    }
   ],
   "source": [
    "# TODO: move this generic process into a helper that takes the minimum knowledge\n",
    "# The helper could be a class that wraps the graph e.g.,\n",
    "# sparql_reasoner.add_knowledge(triples..)\n",
    "# sparql_reasoner.add_rules(rule names)\n",
    "# sparql_reasoner.ask(...)\n",
    "g = Graph()\n",
    "bind_namespaces(g)\n",
    "\n",
    "g.add((parking_garage, MCS.contains, vehicle))\n",
    "g.add((vehicle, RDF.type, automobile))\n",
    "print(\"Graph after adding minimum knowledge:\")\n",
    "print(g.serialize(format=\"ttl\").decode(\"utf-8\"))"
   ]
  },
  {
   "cell_type": "markdown",
   "metadata": {
    "pycharm": {
     "name": "#%% md\n"
    }
   },
   "source": [
    "#### Minimum rules assumed:\n",
    "\n",
    "- a container is larger than the things it contains"
   ]
  },
  {
   "cell_type": "code",
   "execution_count": 64,
   "outputs": [
    {
     "name": "stdout",
     "output_type": "stream",
     "text": [
      "Graph after adding rules:\n",
      "@prefix mcs: <http://purl.org/twc/mcs/> .\n",
      "\n",
      "<mcs:object:parking_garage> mcs:contains <mcs:object:vehicle> ;\n",
      "    mcs:isLargerThan <mcs:object:vehicle> .\n",
      "\n",
      "<mcs:object:vehicle> a <mcs:object:automobile> .\n",
      "\n",
      "\n"
     ]
    }
   ],
   "source": [
    "# TODO: move this process into a helper that takes the rule names\n",
    "for rule_name in (\"is_larger_than\",):\n",
    "    with open(Path(\"rules\") / (rule_name + \".sparql\"), \"r\") as sparql_file:\n",
    "        sparql = sparql_file.read()\n",
    "        for result in g.query(sparql):\n",
    "            g.add(result)\n",
    "\n",
    "print(\"Graph after adding rules:\")\n",
    "print(g.serialize(format=\"ttl\").decode(\"utf-8\"))"
   ],
   "metadata": {
    "collapsed": false,
    "pycharm": {
     "name": "#%%\n"
    }
   }
  },
  {
   "cell_type": "code",
   "execution_count": 65,
   "outputs": [
    {
     "name": "stdout",
     "output_type": "stream",
     "text": [
      "False\n"
     ]
    }
   ],
   "source": [
    "qres_ask = g.query(\"ASK {mcs:object:parking_garage mcs:isLargerThan mcs:object:automobile}\")\n",
    "print(bool(qres_ask))"
   ],
   "metadata": {
    "collapsed": false,
    "pycharm": {
     "name": "#%%\n"
    }
   }
  }
 ],
 "metadata": {
  "kernelspec": {
   "display_name": "Python 3",
   "language": "python",
   "name": "python3"
  },
  "language_info": {
   "codemirror_mode": {
    "name": "ipython",
    "version": 3
   },
   "file_extension": ".py",
   "mimetype": "text/x-python",
   "name": "python",
   "nbconvert_exporter": "python",
   "pygments_lexer": "ipython3",
   "version": "3.5.2"
  }
 },
 "nbformat": 4,
 "nbformat_minor": 4
}